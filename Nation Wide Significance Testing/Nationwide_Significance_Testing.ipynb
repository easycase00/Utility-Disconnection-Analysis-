{
 "cells": [
  {
   "cell_type": "code",
   "execution_count": 8,
   "id": "a2beb522",
   "metadata": {},
   "outputs": [
    {
     "name": "stdout",
     "output_type": "stream",
     "text": [
      "States with data from 2018 to 2022:\n",
      "['Alabama', 'California', 'Colorado', 'Connecticut', 'Florida', 'Hawaii', 'Idaho', 'Illinois', 'Indiana', 'Iowa', 'Louisiana', 'Maine', 'Maryland', 'Michigan', 'Minnesota', 'Missouri', 'New Hampshire', 'New Jersey', 'New York', 'North Carolina', 'North Dakota', 'Ohio', 'Oklahoma', 'Oregon', 'Rhode Island', 'South Carolina', 'Texas', 'Utah', 'Vermont', 'Virginia', 'Washington', 'Washington, D.C.', 'Wisconsin']\n"
     ]
    }
   ],
   "source": [
    "import pandas as pd\n",
    "\n",
    "df = pd.read_csv('/Users/shraddhagupta/Downloads/dsp/utility/hard_fix_september_11_2024.csv')\n",
    "\n",
    "# Filter the dataset for years 2018 to 2022\n",
    "filtered_df = df[(df['Year'] >= 2018) & (df['Year'] <= 2022)]\n",
    "\n",
    "# Group by State and check if each state has data for all years from 2018 to 2022\n",
    "years_range = set(range(2018, 2023))\n",
    "states_with_complete_data = (\n",
    "    filtered_df.groupby('State')['Year']\n",
    "    .apply(set)  \n",
    "    .apply(lambda years: years_range.issubset(years))  \n",
    "    .loc[lambda x: x]  \n",
    "    .index.tolist()  \n",
    ")\n",
    "\n",
    "print(\"States with data from 2018 to 2022:\")\n",
    "print(states_with_complete_data)\n"
   ]
  },
  {
   "cell_type": "code",
   "execution_count": 2,
   "id": "6b2657ec",
   "metadata": {},
   "outputs": [
    {
     "name": "stdout",
     "output_type": "stream",
     "text": [
      "       State    Utility Name       Utility Type Service Type  Year     Month  \\\n",
      "96   Alabama  City of Dothan  Municipal Utility     Electric  2018   January   \n",
      "97   Alabama  City of Dothan  Municipal Utility     Electric  2018  February   \n",
      "98   Alabama  City of Dothan  Municipal Utility     Electric  2018     March   \n",
      "99   Alabama  City of Dothan  Municipal Utility     Electric  2018     April   \n",
      "100  Alabama  City of Dothan  Municipal Utility     Electric  2018       May   \n",
      "\n",
      "     Total Disconnections  Total Reconnenctions  Total Connections  \\\n",
      "96                 1565.0                 932.0            25721.0   \n",
      "97                 2293.0                1430.0            25535.0   \n",
      "98                 1999.0                1292.0            25736.0   \n",
      "99                 2000.0                1239.0            25582.0   \n",
      "100                1603.0                1013.0            25702.0   \n",
      "\n",
      "     Disconnection Rate  \n",
      "96             0.060845  \n",
      "97             0.089798  \n",
      "98             0.077673  \n",
      "99             0.078180  \n",
      "100            0.062369  \n"
     ]
    }
   ],
   "source": [
    "\n",
    "states_with_complete_data = [\n",
    "    'Alabama', 'California', 'Colorado', 'Connecticut', 'Florida', 'Hawaii', 'Idaho', 'Illinois', \n",
    "    'Indiana', 'Iowa', 'Louisiana', 'Maine', 'Maryland', 'Michigan', 'Minnesota', 'Missouri', \n",
    "    'New Hampshire', 'New Jersey', 'New York', 'North Carolina', 'North Dakota', 'Ohio', \n",
    "    'Oklahoma', 'Oregon', 'Rhode Island', 'South Carolina', 'Texas', 'Utah', 'Vermont', \n",
    "    'Virginia', 'Washington', 'Washington, D.C.', 'Wisconsin'\n",
    "]\n",
    "\n",
    "# Filter the dataset for the specified states and years\n",
    "filtered_df2 = df[\n",
    "    (df['State'].isin(states_with_complete_data)) &  \n",
    "    (df['Year'] >= 2018) & (df['Year'] <= 2022)  \n",
    "\n",
    "print(filtered_df2.head())\n"
   ]
  },
  {
   "cell_type": "markdown",
   "id": "96048730",
   "metadata": {},
   "source": [
    "Calculate the mean disconnection rate for each period across all states to observe national trends.\n",
    "\n",
    "Hypothesis Testing:\n",
    "\n",
    "ANOVA is used to compare means of disconnection rates between the three periods:\n",
    "\n",
    "𝐻0 - The mean disconnection rates are the same across all periods.\n",
    "\n",
    "𝐻1 - At least one period has a different mean disconnection rate.\n",
    "\n",
    "# ANOVA"
   ]
  },
  {
   "cell_type": "code",
   "execution_count": 3,
   "id": "10ab64c4",
   "metadata": {},
   "outputs": [
    {
     "name": "stdout",
     "output_type": "stream",
     "text": [
      "National Disconnection Rates by Period:\n",
      "       Period  Disconnection Rate\n",
      "0       COVID            0.002580\n",
      "1  Post-COVID            0.003664\n",
      "2   Pre-COVID            0.005912\n",
      "\n",
      "Statistical Test Results:\n",
      "F-statistic: nan\n",
      "P-value: nan\n",
      "There is no statistically significant difference in disconnection rates between the periods.\n"
     ]
    },
    {
     "name": "stderr",
     "output_type": "stream",
     "text": [
      "/var/folders/s_/1x9bb8b51jb2zw3cs4wq0v3w0000gn/T/ipykernel_14703/3463984187.py:16: SettingWithCopyWarning: \n",
      "A value is trying to be set on a copy of a slice from a DataFrame.\n",
      "Try using .loc[row_indexer,col_indexer] = value instead\n",
      "\n",
      "See the caveats in the documentation: https://pandas.pydata.org/pandas-docs/stable/user_guide/indexing.html#returning-a-view-versus-a-copy\n",
      "  data['Period'] = data['Year'].apply(categorize_period)\n"
     ]
    }
   ],
   "source": [
    "import pandas as pd\n",
    "from scipy.stats import f_oneway \n",
    "\n",
    "# Load the filtered dataset\n",
    "data = filtered_df2\n",
    "\n",
    "# Categorize years into periods\n",
    "def categorize_period(year):\n",
    "    if year in [2018, 2019]:\n",
    "        return 'Pre-COVID'\n",
    "    elif year == 2020:\n",
    "        return 'COVID'\n",
    "    elif year in [2021, 2022]:\n",
    "        return 'Post-COVID'\n",
    "\n",
    "data['Period'] = data['Year'].apply(categorize_period)\n",
    "\n",
    "# National trend: Aggregate disconnection rates by period\n",
    "national_trends = data.groupby('Period')['Disconnection Rate'].mean().reset_index()\n",
    "print(\"National Disconnection Rates by Period:\")\n",
    "print(national_trends)\n",
    "\n",
    "# Prepare data for hypothesis testing\n",
    "pre_covid_rates = data[data['Period'] == 'Pre-COVID']['Disconnection Rate']\n",
    "covid_rates = data[data['Period'] == 'COVID']['Disconnection Rate']\n",
    "post_covid_rates = data[data['Period'] == 'Post-COVID']['Disconnection Rate']\n",
    "\n",
    "# Perform one-way ANOVA to compare means across the three periods\n",
    "f_stat, p_value = f_oneway(pre_covid_rates, covid_rates, post_covid_rates)\n",
    "\n",
    "# Print results\n",
    "print(\"\\nStatistical Test Results:\")\n",
    "print(f\"F-statistic: {f_stat:.4f}\")\n",
    "print(f\"P-value: {p_value:.4f}\")\n",
    "\n",
    "# Interpret results\n",
    "if p_value < 0.05:\n",
    "    print(\"There is a statistically significant difference in disconnection rates between the periods.\")\n",
    "else:\n",
    "    print(\"There is no statistically significant difference in disconnection rates between the periods.\")\n"
   ]
  },
  {
   "cell_type": "markdown",
   "id": "ade74bd6",
   "metadata": {},
   "source": [
    "Why the Result is NaN:\n",
    "\n",
    "The dataset contains missing values for disconnection rates in certain rows.\n",
    "When the statistical test encounters missing values, it cannot compute the test statistic properly.\n",
    "If one of the periods (Pre-COVID, COVID, Post-COVID) has no valid data points, the test cannot make a comparison."
   ]
  },
  {
   "cell_type": "code",
   "execution_count": 4,
   "id": "17f661c2",
   "metadata": {},
   "outputs": [
    {
     "name": "stdout",
     "output_type": "stream",
     "text": [
      "\n",
      "Statistical Test Results:\n",
      "F-statistic: 126.0037\n",
      "P-value: 0.0000\n",
      "There is a statistically significant difference in disconnection rates between the periods.\n"
     ]
    }
   ],
   "source": [
    "# Drop missing values for disconnection rates\n",
    "pre_covid_rates = data[data['Period'] == 'Pre-COVID']['Disconnection Rate'].dropna()\n",
    "covid_rates = data[data['Period'] == 'COVID']['Disconnection Rate'].dropna()\n",
    "post_covid_rates = data[data['Period'] == 'Post-COVID']['Disconnection Rate'].dropna()\n",
    "\n",
    "# Perform one-way ANOVA\n",
    "f_stat, p_value = f_oneway(pre_covid_rates, covid_rates, post_covid_rates)\n",
    "\n",
    "# Print results\n",
    "print(\"\\nStatistical Test Results:\")\n",
    "print(f\"F-statistic: {f_stat:.4f}\")\n",
    "print(f\"P-value: {p_value:.4f}\")\n",
    "\n",
    "if p_value < 0.05:\n",
    "    print(\"There is a statistically significant difference in disconnection rates between the periods.\")\n",
    "else:\n",
    "    print(\"There is no statistically significant difference in disconnection rates between the periods.\")\n"
   ]
  },
  {
   "cell_type": "markdown",
   "id": "35d5da33",
   "metadata": {},
   "source": [
    "Given the dataset's characteristics, especially with missing data and potential non-normality in disconnection rates, considered non-parametric hypothesis testing methods as they do not rely on strict assumptions of normality or equal variances.\n",
    "\n",
    "The p-value is much less than 0.05, so we reject H0(null hypothesis). There is a statistically significant difference in mean disconnection rates between the periods. At least one period has a different mean disconnection rate.\n",
    "\n",
    "Alternative Method: Kruskal-Wallis H-Test\n",
    "\n",
    "The Kruskal-Wallis H-test is a non-parametric alternative to ANOVA. It compares the medians of disconnection rates across multiple groups (Pre-COVID, COVID, Post-COVID) without assuming normality.\n",
    "\n",
    "Why Kruskal-Wallis?\n",
    "\n",
    "Handles missing data more robustly (after dropping missing values).\n",
    "Compares medians rather than means, which can be more appropriate for skewed data.\n",
    "\n",
    "# Kruskal-Wallis H-Test"
   ]
  },
  {
   "cell_type": "code",
   "execution_count": 5,
   "id": "2cc38d7a",
   "metadata": {},
   "outputs": [
    {
     "name": "stdout",
     "output_type": "stream",
     "text": [
      "\n",
      "Kruskal-Wallis Test Results:\n",
      "H-statistic: 1264.8274\n",
      "P-value: 0.0000\n",
      "There is a statistically significant difference in median disconnection rates between the periods.\n"
     ]
    },
    {
     "name": "stderr",
     "output_type": "stream",
     "text": [
      "/var/folders/s_/1x9bb8b51jb2zw3cs4wq0v3w0000gn/T/ipykernel_14703/726208052.py:12: SettingWithCopyWarning: \n",
      "A value is trying to be set on a copy of a slice from a DataFrame.\n",
      "Try using .loc[row_indexer,col_indexer] = value instead\n",
      "\n",
      "See the caveats in the documentation: https://pandas.pydata.org/pandas-docs/stable/user_guide/indexing.html#returning-a-view-versus-a-copy\n",
      "  data['Period'] = data['Year'].apply(categorize_period)\n"
     ]
    }
   ],
   "source": [
    "from scipy.stats import kruskal\n",
    "\n",
    "# Categorize years into periods\n",
    "def categorize_period(year):\n",
    "    if year in [2018, 2019]:\n",
    "        return 'Pre-COVID'\n",
    "    elif year == 2020:\n",
    "        return 'COVID'\n",
    "    elif year in [2021, 2022]:\n",
    "        return 'Post-COVID'\n",
    "\n",
    "data['Period'] = data['Year'].apply(categorize_period)\n",
    "\n",
    "# Drop missing values for disconnection rates\n",
    "data = data.dropna(subset=['Disconnection Rate'])\n",
    "\n",
    "# Group disconnection rates by period\n",
    "pre_covid_rates = data[data['Period'] == 'Pre-COVID']['Disconnection Rate']\n",
    "covid_rates = data[data['Period'] == 'COVID']['Disconnection Rate']\n",
    "post_covid_rates = data[data['Period'] == 'Post-COVID']['Disconnection Rate']\n",
    "\n",
    "# Perform Kruskal-Wallis H-Test\n",
    "h_stat, p_value = kruskal(pre_covid_rates, covid_rates, post_covid_rates)\n",
    "\n",
    "# Print results\n",
    "print(\"\\nKruskal-Wallis Test Results:\")\n",
    "print(f\"H-statistic: {h_stat:.4f}\")\n",
    "print(f\"P-value: {p_value:.4f}\")\n",
    "\n",
    "# Interpret the results\n",
    "if p_value < 0.05:\n",
    "    print(\"There is a statistically significant difference in median disconnection rates between the periods.\")\n",
    "else:\n",
    "    print(\"There is no statistically significant difference in median disconnection rates between the periods.\")\n"
   ]
  },
  {
   "cell_type": "markdown",
   "id": "304f9c7b",
   "metadata": {},
   "source": [
    "At least one of the periods has a significantly different median disconnection rate compared to the others.\n",
    "This does not specify which periods differ; it only indicates that a difference exists.\n",
    "\n",
    "We reject null hypothesis here. At least one period has a different median disconnection rate.\n",
    "\n",
    "Next Steps:\n",
    "\n",
    "Perform post-hoc pairwise comparisons to determine which periods (Pre-COVID vs COVID, COVID vs Post-COVID, etc.) differ from each other.\n",
    "\n",
    "Dunn’s Test is commonly used for post-hoc pairwise comparisons after Kruskal-Wallis. It adjusts for multiple comparisons to control the family-wise error rate.\n",
    "\n",
    "# Dunn’s Test"
   ]
  },
  {
   "cell_type": "code",
   "execution_count": 6,
   "id": "760a393e",
   "metadata": {},
   "outputs": [
    {
     "name": "stdout",
     "output_type": "stream",
     "text": [
      "Data counts per period:\n",
      "Pre-COVID: 3520\n",
      "COVID: 2271\n",
      "Post-COVID: 4418\n",
      "\n",
      "Dunn's Post-hoc Test Results (p-values):\n",
      "                    COVID     Post-COVID      Pre-COVID\n",
      "COVID        1.000000e+00   1.001653e-71  7.113813e-270\n",
      "Post-COVID   1.001653e-71   1.000000e+00  2.560229e-100\n",
      "Pre-COVID   7.113813e-270  2.560229e-100   1.000000e+00\n"
     ]
    }
   ],
   "source": [
    "pre_covid_rates = pre_covid_rates.dropna()\n",
    "covid_rates = covid_rates.dropna()\n",
    "post_covid_rates = post_covid_rates.dropna()\n",
    "\n",
    "print(\"Data counts per period:\")\n",
    "print(\"Pre-COVID:\", len(pre_covid_rates))\n",
    "print(\"COVID:\", len(covid_rates))\n",
    "print(\"Post-COVID:\", len(post_covid_rates))\n",
    "\n",
    "import pandas as pd\n",
    "import scikit_posthocs as sp\n",
    "import numpy as np\n",
    "\n",
    "# Combine the data into one array for disconnection rates\n",
    "all_rates = np.concatenate([pre_covid_rates, covid_rates, post_covid_rates])\n",
    "\n",
    "# Create a corresponding array of group labels\n",
    "groups = (\n",
    "    ['Pre-COVID'] * len(pre_covid_rates) +\n",
    "    ['COVID'] * len(covid_rates) +\n",
    "    ['Post-COVID'] * len(post_covid_rates)\n",
    ")\n",
    "\n",
    "# Create a DataFrame with the two columns required by Dunn's test\n",
    "df = pd.DataFrame({\n",
    "    'Disconnection Rate': all_rates,\n",
    "    'Period': groups\n",
    "})\n",
    "\n",
    "# Run Dunn's post-hoc test\n",
    "dunn_results = sp.posthoc_dunn(df, val_col='Disconnection Rate', group_col='Period', p_adjust='bonferroni')\n",
    "\n",
    "# Print results\n",
    "print(\"\\nDunn's Post-hoc Test Results (p-values):\")\n",
    "print(dunn_results)\n",
    "\n"
   ]
  },
  {
   "cell_type": "markdown",
   "id": "3aa09ea3",
   "metadata": {},
   "source": [
    "All comparisons between the periods show statistical significance (p-value < 0.05), indicating that the disconnection rates during the COVID period, Post-COVID period, and Pre-COVID period are all significantly different from each other.\n",
    "\n",
    "Given that all the p-values are extremely small (close to zero), this suggests that the disconnection rates vary considerably across these three periods.\n",
    "\n",
    "We reject null hypothesis for all pairwise comparisons. Every period pair (Pre-COVID, COVID, Post-COVID) has significantly different median disconnection rates.\n",
    "\n",
    "Dunn’s Post-hoc Test revealed significant pairwise differences between all periods:\n",
    "Pre-COVID rates were higher than COVID and Post-COVID.\n",
    "COVID rates were lower than both Pre-COVID and Post-COVID.\n",
    "Post-COVID rates were higher than COVID but lower than Pre-COVID.\n",
    "\n",
    "This comprehensive analysis suggests that national disconnection rates significantly decreased during the COVID period (possibly due to moratoriums and financial aid) and increased again post-COVID, though not reaching Pre-COVID levels."
   ]
  },
  {
   "cell_type": "code",
   "execution_count": 7,
   "id": "30aa555f",
   "metadata": {},
   "outputs": [
    {
     "data": {
      "image/png": "[encoded data removed]",
      "text/plain": [
       "<Figure size 1000x600 with 1 Axes>"
      ]
     },
     "metadata": {},
     "output_type": "display_data"
    }
   ],
   "source": [
    "import seaborn as sns\n",
    "import matplotlib.pyplot as plt\n",
    "\n",
    "# Create a boxplot to visualize disconnection rates across periods\n",
    "plt.figure(figsize=(10, 6))\n",
    "sns.boxplot(x='Period', y='Disconnection Rate', data=df)\n",
    "plt.title('Disconnection Rates by Period (Pre-COVID, COVID, Post-COVID)')\n",
    "plt.show()\n"
   ]
  },
  {
   "cell_type": "code",
   "execution_count": null,
   "id": "ed3e2abf",
   "metadata": {},
   "outputs": [],
   "source": []
  }
 ],
 "metadata": {
  "kernelspec": {
   "display_name": "Python 3 (ipykernel)",
   "language": "python",
   "name": "python3"
  },
  "language_info": {
   "codemirror_mode": {
    "name": "ipython",
    "version": 3
   },
   "file_extension": ".py",
   "mimetype": "text/x-python",
   "name": "python",
   "nbconvert_exporter": "python",
   "pygments_lexer": "ipython3",
   "version": "3.11.0"
  }
 },
 "nbformat": 4,
 "nbformat_minor": 5
}
